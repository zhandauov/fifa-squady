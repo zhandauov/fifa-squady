{
 "cells": [
  {
   "cell_type": "code",
   "execution_count": 1,
   "metadata": {},
   "outputs": [],
   "source": [
    "import numpy as np\n",
    "import pandas as pd"
   ]
  },
  {
   "cell_type": "code",
   "execution_count": 5,
   "metadata": {},
   "outputs": [],
   "source": [
    "players = pd.read_csv('../dataset light memory/players_fifa22.csv')\n",
    "teams = pd.read_csv('../dataset light memory/teams_fifa22.csv')"
   ]
  },
  {
   "cell_type": "code",
   "execution_count": null,
   "metadata": {
    "scrolled": true
   },
   "outputs": [],
   "source": [
    "list(players.columns)"
   ]
  },
  {
   "cell_type": "code",
   "execution_count": 6,
   "metadata": {},
   "outputs": [],
   "source": [
    "import random\n",
    "from collections import deque\n",
    "import os\n",
    "from keras.models import Sequential\n",
    "from keras.layers import Dense\n",
    "from tensorflow.keras.optimizers import Adam\n",
    "        \n",
    "class DQNetwork:\n",
    "    def __init__(self, state_size, action_size):\n",
    "        self.state_size = state_size\n",
    "        self.action_size = action_size\n",
    "        self.memory = deque(maxlen = 2000)\n",
    "        self.gamma = 0.95\n",
    "        self.epsilon = 1.0\n",
    "        self.epsilon_decay = 0.999\n",
    "        self.epsilon_min = 0.01\n",
    "        self.learning_rate = 0.01\n",
    "        self.model = self._build_model()\n",
    "    \n",
    "    def _build_model(self):\n",
    "        model = Sequential()\n",
    "        model.add(Dense(24, input_dim = self.state_size, activation = 'relu'))\n",
    "        model.add(Dense(128, activation = 'relu'))\n",
    "        model.add(Dense(128, activation = 'relu'))\n",
    "        model.add(Dense(self.action_size, activation = 'linear'))\n",
    "        model.compile(loss='mse', optimizer = Adam(learning_rate = self.learning_rate))\n",
    "        return model\n",
    "    \n",
    "    def remember(self, state, action, reward, next_state, done):\n",
    "        self.memory.append((state, action, reward, next_state, done))\n",
    "    \n",
    "    def act(self, state):\n",
    "        if np.random.rand() <= self.epsilon:\n",
    "            return random.randrange(self.action_size)\n",
    "        act_values = self.model.predict(state)\n",
    "        return np.argmax(act_values[0])\n",
    "    \n",
    "    def replay(self, batch_size):\n",
    "        batch = random.sample(self.memory, batch_size)\n",
    "        for state, action, reward, next_state, done in batch:\n",
    "            target = reward #target = 80\n",
    "            if not done:\n",
    "                target = (reward + self.gamma * np.amax(self.model.predict(next_state)[0])) \n",
    "            target_cur = self.model.predict(state)\n",
    "            target_cur[0][action] = target\n",
    "            self.model.fit(state, target_cur, epochs = 1, verbose = 0)\n",
    "        if self.epsilon > self.epsilon_min:\n",
    "            self.epsilon *= self.epsilon_decay\n",
    "    def load(self, name):\n",
    "        self.model.load_weights(name)\n",
    "    def save(self, name):\n",
    "        self.model.save_weights(name)\n",
    "    \n"
   ]
  },
  {
   "cell_type": "code",
   "execution_count": 4,
   "metadata": {},
   "outputs": [],
   "source": [
    "import gym\n",
    "\n",
    "env = gym.make('CartPole-v0')\n",
    "state_size = env.observation_space.shape[0]\n",
    "action_size = env.action_space.n\n",
    "batch_size = 32\n",
    "n_episodes = 1001"
   ]
  },
  {
   "cell_type": "code",
   "execution_count": 6,
   "metadata": {},
   "outputs": [],
   "source": [
    "arr = env.reset()"
   ]
  },
  {
   "cell_type": "code",
   "execution_count": 55,
   "metadata": {},
   "outputs": [
    {
     "name": "stdout",
     "output_type": "stream",
     "text": [
      "[-0.00625125 -0.22040966  0.03027815  0.29822242] 1.0 False\n",
      "[-0.01065945 -0.41594985  0.0362426   0.60029864] 1.0 False\n",
      "[-0.01897844 -0.61155957  0.04824857  0.90417355] 1.0 False\n",
      "[-0.03120963 -0.8073006   0.06633205  1.2116231 ] 1.0 False\n",
      "[-0.04735565 -1.0032132   0.0905645   1.5243329 ] 1.0 False\n",
      "[-0.06741991 -1.1993045   0.12105117  1.8438541 ] 1.0 False\n",
      "[-0.091406   -1.3955357   0.15792824  2.171549  ] 1.0 False\n",
      "[-0.11931671 -1.5918063   0.20135923  2.5085294 ] 1.0 False\n",
      "[-0.15115283 -1.7879367   0.2515298   2.8555813 ] 1.0 True\n"
     ]
    }
   ],
   "source": [
    "done = False\n",
    "env.reset()\n",
    "while not done:\n",
    "    a, b , done, _ = env.step(0)\n",
    "    print(a,b,done)"
   ]
  },
  {
   "cell_type": "code",
   "execution_count": null,
   "metadata": {},
   "outputs": [],
   "source": [
    "# agent = DQNetwork(state_size, action_size)\n",
    "\n",
    "# for e in range(n_episodes):\n",
    "#     state = env.reset()\n",
    "#     state = np.reshape(state, [1, state_size])\n",
    "#     for time in range(5000):\n",
    "#         #env.render()\n",
    "#         action = agent.act(state)\n",
    "#         next_state, reward, done, _ = env.step(action)\n",
    "#         reward = reward if not done else -10\n",
    "#         next_state = np.reshape(next_state, [1, state_size])\n",
    "#         agent.remember(state, action, reward, next_state, done)\n",
    "#         state = next_state\n",
    "#         if done:\n",
    "#             print(f\"episode: {e}/{n_episodes}, score: {time}, e: {round(agent.epsilon, 2)}\")\n",
    "#             break\n",
    "#     if len(agent.memory) > batch_size:\n",
    "#         agent.replay(batch_size)"
   ]
  },
  {
   "cell_type": "code",
   "execution_count": null,
   "metadata": {},
   "outputs": [],
   "source": [
    "state = env.reset()\n",
    "state = np.reshape(state, [1, state_size])\n",
    "next_state, reward, done, _ = env.step(action)"
   ]
  },
  {
   "cell_type": "code",
   "execution_count": null,
   "metadata": {},
   "outputs": [],
   "source": [
    "testdqn.model.predict([[1,2,3,4,5,6,7,8,9,10]])"
   ]
  },
  {
   "cell_type": "markdown",
   "metadata": {},
   "source": [
    "## env logic"
   ]
  },
  {
   "cell_type": "markdown",
   "metadata": {},
   "source": [
    "#### env reset()\n",
    "#### env.step()\n",
    "#### env."
   ]
  },
  {
   "cell_type": "code",
   "execution_count": 7,
   "metadata": {},
   "outputs": [],
   "source": [
    "class Player:\n",
    "    def __init__(self, name = '', position = '', position_rating = 0, value = 0, wage = 0):\n",
    "        self.name = name\n",
    "        #self.overall_rating = overall_rating\n",
    "        self.position = position\n",
    "        self.position_rating = position_rating\n",
    "        self.value = value\n",
    "        #self.wage = wage"
   ]
  },
  {
   "cell_type": "code",
   "execution_count": 68,
   "metadata": {},
   "outputs": [],
   "source": [
    "class Environment:\n",
    "    def __init__(self, players):\n",
    "        self.players = players[['ID', 'Name', 'ValueEUR', 'Overall', 'STRating', 'LWRating', 'LFRating', 'CFRating', 'RFRating', 'RWRating',\n",
    "                                'CAMRating', 'LMRating', 'CMRating', 'RMRating', 'LWBRating',\n",
    "                                'CDMRating', 'RWBRating', 'LBRating', 'CBRating', 'RBRating', 'GKRating']]\n",
    "        self.formation = ['GK', \n",
    "                         'LB', 'CB', 'CB', 'RB', \n",
    "                         'LM', 'CAM', 'RM',\n",
    "                         'LW', 'ST', 'RW']\n",
    "        self.reward = 0\n",
    "    def reset(self):\n",
    "        self.money = np.random.randint(10000000, 1000000000, size = 1)[0]\n",
    "        self.formation = ['GK', \n",
    "                         'LB', 'CB', 'CB', 'RB', \n",
    "                         'LM', 'CAM', 'RM',\n",
    "                         'LW', 'ST', 'RW']\n",
    "        self.posid = 0\n",
    "        self.done = False\n",
    "        self.squad = []\n",
    "        self.squad_players_ids = [-1 for i in range (11)]\n",
    "        state = [self.money, self.posid, *self.squad_players_ids]\n",
    "        return state\n",
    "    \n",
    "    def step(self, action):\n",
    "        money_exceeded_flag = False\n",
    "        if action in self.squad_players_ids:\n",
    "            return [[self.money, self.posid, *self.squad_players_ids], -10, False, {}]\n",
    "        \n",
    "        if len(self.squad) + 1 == 11:\n",
    "            self.done = True\n",
    "        self.squad_players_ids[self.posid] = action\n",
    "        player = Player(players.iloc[action]['Name'], \n",
    "                                 self.formation[self.posid],\n",
    "                                 players.iloc[action][f'{self.formation[self.posid]}Rating'],\n",
    "                                 players.iloc[action]['ValueEUR'])\n",
    "        self.squad.append(player)\n",
    "        self.posid += 1\n",
    "        self.money -= player.value\n",
    "        if self.money < 0:\n",
    "            money_exceeded_flag = True\n",
    "        next_state = [self.money, self.posid, *self.squad_players_ids]\n",
    "        \n",
    "        reward = self.evalSquad()\n",
    "        if money_exceeded_flag == True:\n",
    "            done = True\n",
    "            reward = -100\n",
    "            return [next_state, reward, self.done, {}]\n",
    "        return [next_state, reward, self.done, {}]\n",
    "    \n",
    "    def evalSquad(self):\n",
    "        sum_rating = 0\n",
    "        for player in self.squad:\n",
    "            sum_rating += player.position_rating\n",
    "        if len(self.squad) == 11:\n",
    "            return sum_rating\n",
    "        return round(sum_rating/len(self.squad), 2)"
   ]
  },
  {
   "cell_type": "code",
   "execution_count": 67,
   "metadata": {
    "scrolled": true
   },
   "outputs": [
    {
     "data": {
      "text/plain": [
       "19260"
      ]
     },
     "execution_count": 67,
     "metadata": {},
     "output_type": "execute_result"
    }
   ],
   "source": [
    "players.shape[0]"
   ]
  },
  {
   "cell_type": "code",
   "execution_count": null,
   "metadata": {},
   "outputs": [],
   "source": []
  },
  {
   "cell_type": "code",
   "execution_count": 77,
   "metadata": {},
   "outputs": [
    {
     "name": "stdout",
     "output_type": "stream",
     "text": [
      "episode: 0/200, score: 520, e: 1.0\n",
      "episode: 1/200, score: 710, e: 1.0\n",
      "episode: 2/200, score: 654, e: 1.0\n",
      "episode: 3/200, score: 610, e: 0.99\n",
      "episode: 4/200, score: 572, e: 0.99\n",
      "episode: 5/200, score: 536, e: 0.99\n",
      "episode: 6/200, score: 656, e: 0.98\n",
      "episode: 7/200, score: 515, e: 0.98\n",
      "episode: 8/200, score: 574, e: 0.97\n",
      "episode: 9/200, score: 604, e: 0.97\n",
      "episode: 10/200, score: 517, e: 0.96\n",
      "episode: 11/200, score: 662, e: 0.96\n",
      "episode: 12/200, score: 550, e: 0.95\n",
      "episode: 13/200, score: 617, e: 0.95\n",
      "episode: 14/200, score: 583, e: 0.94\n",
      "episode: 15/200, score: 478, e: 0.94\n",
      "episode: 16/200, score: 599, e: 0.93\n",
      "episode: 17/200, score: 594, e: 0.93\n",
      "episode: 18/200, score: 571, e: 0.92\n",
      "episode: 19/200, score: 582, e: 0.92\n",
      "episode: 20/200, score: 613, e: 0.91\n",
      "episode: 21/200, score: 632, e: 0.91\n",
      "episode: 22/200, score: 607, e: 0.9\n",
      "episode: 23/200, score: 582, e: 0.9\n",
      "episode: 24/200, score: 668, e: 0.9\n",
      "episode: 25/200, score: 546, e: 0.89\n",
      "episode: 26/200, score: 648, e: 0.89\n",
      "episode: 27/200, score: 594, e: 0.88\n",
      "episode: 28/200, score: 566, e: 0.88\n",
      "episode: 29/200, score: 555, e: 0.87\n",
      "episode: 30/200, score: 611, e: 0.87\n",
      "episode: 31/200, score: 557, e: 0.86\n",
      "episode: 32/200, score: 558, e: 0.86\n",
      "episode: 33/200, score: 717, e: 0.86\n",
      "episode: 34/200, score: 613, e: 0.85\n",
      "episode: 35/200, score: 552, e: 0.85\n",
      "episode: 36/200, score: 540, e: 0.84\n",
      "episode: 37/200, score: 657, e: 0.84\n",
      "episode: 38/200, score: 603, e: 0.83\n",
      "episode: 39/200, score: 639, e: 0.83\n",
      "episode: 40/200, score: 687, e: 0.83\n",
      "episode: 41/200, score: 589, e: 0.82\n",
      "episode: 42/200, score: 527, e: 0.82\n",
      "episode: 43/200, score: 628, e: 0.81\n",
      "episode: 44/200, score: 582, e: 0.81\n",
      "episode: 45/200, score: 607, e: 0.81\n",
      "episode: 46/200, score: 609, e: 0.8\n",
      "episode: 47/200, score: 643, e: 0.8\n",
      "episode: 48/200, score: 579, e: 0.79\n",
      "episode: 49/200, score: 621, e: 0.79\n",
      "episode: 50/200, score: 584, e: 0.79\n",
      "episode: 51/200, score: 571, e: 0.78\n",
      "episode: 52/200, score: 671, e: 0.78\n",
      "episode: 53/200, score: 616, e: 0.77\n",
      "episode: 54/200, score: 665, e: 0.77\n",
      "episode: 55/200, score: 637, e: 0.77\n",
      "episode: 56/200, score: 694, e: 0.76\n",
      "episode: 57/200, score: 650, e: 0.76\n",
      "episode: 58/200, score: -100, e: 0.76\n",
      "episode: 59/200, score: 610, e: 0.75\n",
      "episode: 60/200, score: 534, e: 0.75\n",
      "episode: 61/200, score: 630, e: 0.74\n",
      "episode: 62/200, score: 644, e: 0.74\n",
      "episode: 63/200, score: 647, e: 0.74\n",
      "episode: 64/200, score: 612, e: 0.73\n",
      "episode: 65/200, score: 559, e: 0.73\n",
      "episode: 66/200, score: 631, e: 0.73\n",
      "episode: 67/200, score: -100, e: 0.72\n",
      "episode: 68/200, score: 527, e: 0.72\n",
      "episode: 69/200, score: 610, e: 0.71\n",
      "episode: 70/200, score: 596, e: 0.71\n",
      "episode: 71/200, score: 571, e: 0.71\n",
      "episode: 72/200, score: 484, e: 0.7\n",
      "episode: 73/200, score: 621, e: 0.7\n",
      "episode: 74/200, score: 689, e: 0.7\n",
      "episode: 75/200, score: 551, e: 0.69\n",
      "episode: 76/200, score: -100, e: 0.69\n",
      "episode: 77/200, score: -100, e: 0.69\n",
      "episode: 78/200, score: 631, e: 0.68\n",
      "episode: 79/200, score: 629, e: 0.68\n",
      "episode: 80/200, score: 611, e: 0.68\n",
      "episode: 81/200, score: 553, e: 0.67\n",
      "episode: 82/200, score: -100, e: 0.67\n",
      "episode: 83/200, score: 543, e: 0.67\n",
      "episode: 84/200, score: 530, e: 0.66\n",
      "episode: 85/200, score: 672, e: 0.66\n",
      "episode: 86/200, score: 652, e: 0.66\n",
      "episode: 87/200, score: 597, e: 0.65\n",
      "episode: 88/200, score: 623, e: 0.65\n",
      "episode: 89/200, score: 616, e: 0.65\n",
      "episode: 90/200, score: 527, e: 0.64\n",
      "episode: 91/200, score: 643, e: 0.64\n",
      "episode: 92/200, score: 547, e: 0.64\n",
      "episode: 93/200, score: 627, e: 0.63\n",
      "episode: 94/200, score: 505, e: 0.63\n",
      "episode: 95/200, score: 474, e: 0.63\n",
      "episode: 96/200, score: 500, e: 0.62\n",
      "episode: 97/200, score: 622, e: 0.62\n",
      "episode: 98/200, score: 587, e: 0.62\n",
      "episode: 99/200, score: 554, e: 0.61\n",
      "episode: 100/200, score: -100, e: 0.61\n",
      "episode: 101/200, score: 577, e: 0.61\n",
      "episode: 102/200, score: 589, e: 0.61\n",
      "episode: 103/200, score: -100, e: 0.6\n",
      "episode: 104/200, score: 669, e: 0.6\n",
      "episode: 105/200, score: 648, e: 0.6\n",
      "episode: 106/200, score: 562, e: 0.59\n",
      "episode: 107/200, score: -100, e: 0.59\n",
      "episode: 108/200, score: 626, e: 0.59\n",
      "episode: 109/200, score: 651, e: 0.58\n",
      "episode: 110/200, score: 555, e: 0.58\n",
      "episode: 111/200, score: 580, e: 0.58\n",
      "episode: 112/200, score: 634, e: 0.58\n",
      "episode: 113/200, score: 579, e: 0.57\n",
      "episode: 114/200, score: 602, e: 0.57\n",
      "episode: 115/200, score: 599, e: 0.57\n",
      "episode: 116/200, score: 558, e: 0.56\n",
      "episode: 117/200, score: 613, e: 0.56\n",
      "episode: 118/200, score: 613, e: 0.56\n",
      "episode: 119/200, score: 556, e: 0.56\n",
      "episode: 120/200, score: 585, e: 0.55\n",
      "episode: 121/200, score: 609, e: 0.55\n",
      "episode: 122/200, score: 585, e: 0.55\n",
      "episode: 123/200, score: 606, e: 0.55\n",
      "episode: 124/200, score: 643, e: 0.54\n",
      "episode: 125/200, score: 644, e: 0.54\n",
      "episode: 126/200, score: 615, e: 0.54\n",
      "episode: 127/200, score: -100, e: 0.53\n",
      "episode: 128/200, score: 662, e: 0.53\n",
      "episode: 129/200, score: -100, e: 0.53\n",
      "episode: 130/200, score: 582, e: 0.53\n",
      "episode: 131/200, score: 573, e: 0.52\n",
      "episode: 132/200, score: 602, e: 0.52\n",
      "episode: 133/200, score: 565, e: 0.52\n",
      "episode: 134/200, score: 554, e: 0.52\n",
      "episode: 135/200, score: 655, e: 0.51\n",
      "episode: 136/200, score: 615, e: 0.51\n",
      "episode: 137/200, score: 621, e: 0.51\n",
      "episode: 138/200, score: 629, e: 0.51\n",
      "episode: 139/200, score: 646, e: 0.5\n",
      "episode: 140/200, score: 574, e: 0.5\n",
      "episode: 141/200, score: 583, e: 0.5\n",
      "episode: 142/200, score: 654, e: 0.5\n",
      "episode: 143/200, score: 573, e: 0.49\n",
      "episode: 144/200, score: -100, e: 0.49\n",
      "episode: 145/200, score: 595, e: 0.49\n",
      "episode: 146/200, score: 606, e: 0.49\n",
      "episode: 147/200, score: 672, e: 0.48\n",
      "episode: 148/200, score: -100, e: 0.48\n",
      "episode: 149/200, score: 614, e: 0.48\n",
      "episode: 150/200, score: 562, e: 0.48\n",
      "episode: 151/200, score: -100, e: 0.47\n",
      "episode: 152/200, score: 635, e: 0.47\n",
      "episode: 153/200, score: 559, e: 0.47\n",
      "episode: 154/200, score: 572, e: 0.47\n",
      "episode: 155/200, score: 661, e: 0.46\n",
      "episode: 156/200, score: 625, e: 0.46\n",
      "episode: 157/200, score: 632, e: 0.46\n",
      "episode: 158/200, score: 598, e: 0.46\n",
      "episode: 159/200, score: 611, e: 0.46\n",
      "episode: 160/200, score: 629, e: 0.45\n",
      "episode: 161/200, score: 490, e: 0.45\n",
      "episode: 162/200, score: 605, e: 0.45\n",
      "episode: 163/200, score: 623, e: 0.45\n",
      "episode: 164/200, score: 669, e: 0.44\n",
      "episode: 165/200, score: 484, e: 0.44\n",
      "episode: 166/200, score: 627, e: 0.44\n",
      "episode: 167/200, score: 461, e: 0.44\n",
      "episode: 168/200, score: 620, e: 0.44\n",
      "episode: 169/200, score: 610, e: 0.43\n",
      "episode: 170/200, score: 567, e: 0.43\n",
      "episode: 171/200, score: 580, e: 0.43\n",
      "episode: 172/200, score: 562, e: 0.43\n",
      "episode: 173/200, score: 551, e: 0.42\n",
      "episode: 174/200, score: 645, e: 0.42\n",
      "episode: 175/200, score: 634, e: 0.42\n",
      "episode: 176/200, score: 598, e: 0.42\n",
      "episode: 177/200, score: 606, e: 0.42\n",
      "episode: 178/200, score: 522, e: 0.41\n",
      "episode: 179/200, score: 648, e: 0.41\n",
      "episode: 180/200, score: 543, e: 0.41\n",
      "episode: 181/200, score: 600, e: 0.41\n",
      "episode: 182/200, score: 534, e: 0.41\n",
      "episode: 183/200, score: 556, e: 0.4\n",
      "episode: 184/200, score: 588, e: 0.4\n",
      "episode: 185/200, score: 634, e: 0.4\n",
      "episode: 186/200, score: 538, e: 0.4\n",
      "episode: 187/200, score: 560, e: 0.4\n",
      "episode: 188/200, score: 573, e: 0.39\n",
      "episode: 189/200, score: 593, e: 0.39\n",
      "episode: 190/200, score: 591, e: 0.39\n",
      "episode: 191/200, score: 587, e: 0.39\n",
      "episode: 192/200, score: 584, e: 0.39\n",
      "episode: 193/200, score: 591, e: 0.38\n",
      "episode: 194/200, score: 617, e: 0.38\n",
      "episode: 195/200, score: -100, e: 0.38\n",
      "episode: 196/200, score: 613, e: 0.38\n",
      "episode: 197/200, score: 649, e: 0.38\n",
      "episode: 198/200, score: 490, e: 0.37\n",
      "episode: 199/200, score: 552, e: 0.37\n"
     ]
    }
   ],
   "source": [
    "env = Environment(players)\n",
    "state_size = 13\n",
    "action_size = players.shape[0]\n",
    "batch_size = 32\n",
    "n_episodes = 200\n",
    "\n",
    "agent = DQNetwork(state_size, action_size)\n",
    "\n",
    "for e in range(n_episodes):\n",
    "    state = env.reset()\n",
    "    state = np.reshape(state, [1, state_size])\n",
    "    for time in range(5000):\n",
    "        #env.render()\n",
    "        action = agent.act(state)\n",
    "        next_state, reward, done, _ = env.step(action)\n",
    "        next_state = np.reshape(next_state, [1, state_size])\n",
    "        agent.remember(state, action, reward, next_state, done)\n",
    "        state = next_state\n",
    "        if done:\n",
    "            print(f\"episode: {e}/{n_episodes}, score: {reward}, e: {round(agent.epsilon, 2)}\")\n",
    "            break\n",
    "    if len(agent.memory) > batch_size:\n",
    "        agent.replay(batch_size)"
   ]
  },
  {
   "cell_type": "code",
   "execution_count": 69,
   "metadata": {},
   "outputs": [],
   "source": [
    "env = Environment(players)"
   ]
  },
  {
   "cell_type": "code",
   "execution_count": 70,
   "metadata": {},
   "outputs": [
    {
     "data": {
      "text/plain": [
       "[729833271, 0, -1, -1, -1, -1, -1, -1, -1, -1, -1, -1, -1]"
      ]
     },
     "execution_count": 70,
     "metadata": {},
     "output_type": "execute_result"
    }
   ],
   "source": [
    "env.reset()"
   ]
  },
  {
   "cell_type": "code",
   "execution_count": 71,
   "metadata": {},
   "outputs": [
    {
     "data": {
      "text/plain": [
       "[[729208271, 1, 9999, -1, -1, -1, -1, -1, -1, -1, -1, -1, -1], 19.0, False, {}]"
      ]
     },
     "execution_count": 71,
     "metadata": {},
     "output_type": "execute_result"
    }
   ],
   "source": [
    "env.step(9999)"
   ]
  },
  {
   "cell_type": "code",
   "execution_count": null,
   "metadata": {},
   "outputs": [],
   "source": [
    "for player in env.squad:\n",
    "    print(f'name: {player.name}, position: {player.position}, Position rating: {player.position_rating}')"
   ]
  },
  {
   "cell_type": "code",
   "execution_count": null,
   "metadata": {},
   "outputs": [],
   "source": [
    "print(env.evalSquad())"
   ]
  },
  {
   "cell_type": "code",
   "execution_count": null,
   "metadata": {},
   "outputs": [],
   "source": []
  },
  {
   "cell_type": "code",
   "execution_count": null,
   "metadata": {},
   "outputs": [],
   "source": []
  }
 ],
 "metadata": {
  "kernelspec": {
   "display_name": "Python 3 (ipykernel)",
   "language": "python",
   "name": "python3"
  },
  "language_info": {
   "codemirror_mode": {
    "name": "ipython",
    "version": 3
   },
   "file_extension": ".py",
   "mimetype": "text/x-python",
   "name": "python",
   "nbconvert_exporter": "python",
   "pygments_lexer": "ipython3",
   "version": "3.9.7"
  }
 },
 "nbformat": 4,
 "nbformat_minor": 4
}
