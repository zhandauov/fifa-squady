{
 "cells": [
  {
   "cell_type": "code",
   "execution_count": null,
   "metadata": {},
   "outputs": [],
   "source": [
    "import numpy as np\n",
    "import pandas as pd"
   ]
  },
  {
   "cell_type": "code",
   "execution_count": null,
   "metadata": {},
   "outputs": [],
   "source": [
    "players = pd.read_csv('../dataset light memory/players_fifa22.csv')\n",
    "teams = pd.read_csv('../dataset light memory/teams_fifa22.csv')"
   ]
  },
  {
   "cell_type": "code",
   "execution_count": null,
   "metadata": {
    "scrolled": true
   },
   "outputs": [],
   "source": [
    "list(players.columns)"
   ]
  },
  {
   "cell_type": "code",
   "execution_count": null,
   "metadata": {},
   "outputs": [],
   "source": [
    "['GK', \n",
    " 'LB', 'LCB', 'RCB', 'RB', \n",
    " 'CML', 'CAM', 'CMR',\n",
    " 'LW', 'ST', 'RW']"
   ]
  },
  {
   "cell_type": "code",
   "execution_count": null,
   "metadata": {},
   "outputs": [],
   "source": [
    "players.columns"
   ]
  },
  {
   "cell_type": "code",
   "execution_count": null,
   "metadata": {},
   "outputs": [],
   "source": [
    "import random\n",
    "from collections import deque\n",
    "import os\n",
    "from keras.models import Sequential\n",
    "from keras.layers import Dense\n",
    "from tensorflow.keras.optimizers import Adam\n",
    "        \n",
    "class DQNetwork:\n",
    "    def __init__(self, state_size, action_size):\n",
    "        self.state_size = state_size\n",
    "        self.action_size = action_size\n",
    "        self.memory = deque(maxlen = 2000)\n",
    "        self.gamma = 0.95\n",
    "        self.epsilon = 1.0\n",
    "        self.epsilon_decay = 0.995\n",
    "        self.epsilon_min = 0.01\n",
    "        self.learning_rate = 0.01\n",
    "        self.model = self._build_model()\n",
    "    \n",
    "    def _build_model(self):\n",
    "        model = Sequential()\n",
    "        model.add(Dense(24, input_dim = self.state_size, activation = 'relu'))\n",
    "        model.add(Dense(128, activation = 'relu'))\n",
    "        model.add(Dense(128, activation = 'relu'))\n",
    "        model.add(Dense(self.action_size, activation = 'linear'))\n",
    "        model.compile(loss='mse', optimizer = Adam(learning_rate = self.learning_rate))\n",
    "        return model\n",
    "    \n",
    "    def remember(self, state, action, reward, next_state, done):\n",
    "        self.memory.append((state, action, reward, next_state, done))\n",
    "    \n",
    "    def act(self, state):\n",
    "        if np.random.rand() <= self.epsilon:\n",
    "            return random.randrange(self.action_size)\n",
    "        act_values = self.model.predict(state)\n",
    "        return np.argmax(act_values[0])\n",
    "    \n",
    "    def replay(self, batch_size):\n",
    "        batch = random.sample(self.memory, batch_size)\n",
    "        for state, action, reward, next_state, done in batch:\n",
    "            target = reward #target = 80\n",
    "            if not done:\n",
    "                target = (reward + self.gamma * np.amax(self.model.predict(next_state)[0])) \n",
    "            target_cur = self.model.predict(state)\n",
    "            target_cur[0][action] = target\n",
    "            self.model.fit(state, target_cur, epochs = 1, verbose = 0)\n",
    "        if self.epsilon > self.epsilon_min:\n",
    "            self.epsilon *= self.epsilon_decay\n",
    "    def load(self, name):\n",
    "        self.model.load_weights(name)\n",
    "    def save(self, name):\n",
    "        self.model.save_weights(name)\n",
    "    \n"
   ]
  },
  {
   "cell_type": "code",
   "execution_count": null,
   "metadata": {},
   "outputs": [],
   "source": [
    "import gym\n",
    "\n",
    "env = gym.make('CartPole-v0')\n",
    "state_size = env.observation_space.shape[0]\n",
    "action_size = env.action_space.n\n",
    "batch_size = 32\n",
    "n_episodes = 1001"
   ]
  },
  {
   "cell_type": "code",
   "execution_count": null,
   "metadata": {},
   "outputs": [],
   "source": [
    "# agent = DQNetwork(state_size, action_size)\n",
    "\n",
    "# for e in range(n_episodes):\n",
    "#     state = env.reset()\n",
    "#     state = np.reshape(state, [1, state_size])\n",
    "#     for time in range(5000):\n",
    "#         #env.render()\n",
    "#         action = agent.act(state)\n",
    "#         next_state, reward, done, _ = env.step(action)\n",
    "#         reward = reward if not done else -10\n",
    "#         next_state = np.reshape(next_state, [1, state_size])\n",
    "#         agent.remember(state, action, reward, next_state, done)\n",
    "#         state = next_state\n",
    "#         if done:\n",
    "#             print(f\"episode: {e}/{n_episodes}, score: {time}, e: {round(agent.epsilon, 2)}\")\n",
    "#             break\n",
    "#     if len(agent.memory) > batch_size:\n",
    "#         agent.replay(batch_size)"
   ]
  },
  {
   "cell_type": "code",
   "execution_count": null,
   "metadata": {},
   "outputs": [],
   "source": [
    "state = env.reset()\n",
    "state = np.reshape(state, [1, state_size])\n",
    "next_state, reward, done, _ = env.step(action)"
   ]
  },
  {
   "cell_type": "code",
   "execution_count": null,
   "metadata": {},
   "outputs": [],
   "source": []
  },
  {
   "cell_type": "code",
   "execution_count": null,
   "metadata": {},
   "outputs": [],
   "source": [
    "testdqn = DQNetwork(10, 2)"
   ]
  },
  {
   "cell_type": "code",
   "execution_count": null,
   "metadata": {},
   "outputs": [],
   "source": [
    "testdqn.model.predict([[1,2,3,4,5,6,7,8,9,10]])"
   ]
  },
  {
   "cell_type": "code",
   "execution_count": null,
   "metadata": {},
   "outputs": [],
   "source": [
    "class Player:\n",
    "    def __init__(self, name = '', position = '', position_rating = 0, value = 0, wage = 0):\n",
    "        self.name = name\n",
    "        #self.overall_rating = overall_rating\n",
    "        self.position = position\n",
    "        self.position_rating = position_rating\n",
    "        self.value = value\n",
    "        #self.wage = wage\n",
    "        \n",
    "class Environment:\n",
    "    def __init__(self, players, money):\n",
    "        self.players = players[['ID', 'Name', 'ValueEUR', 'Overall', 'STRating', 'LWRating', 'LFRating', 'CFRating', 'RFRating', 'RWRating',\n",
    "                                'CAMRating', 'LMRating', 'CMRating', 'RMRating', 'LWBRating',\n",
    "                                'CDMRating', 'RWBRating', 'LBRating', 'CBRating', 'RBRating', 'GKRating']]\n",
    "        self.money = money\n",
    "        self.formation = ['GK', \n",
    "                         'LB', 'CB', 'CB', 'RB', \n",
    "                         'LM', 'CAM', 'RM',\n",
    "                         'LW', 'ST', 'RW']\n",
    "        self.squad = self.buildSquad()\n",
    "        \n",
    "    def buildSquad(self):\n",
    "        squad = []\n",
    "        for i in range(11):\n",
    "            cur_position = self.formation.pop()\n",
    "            player_id = np.random.randint(0, 1000, 1)[0]\n",
    "            temp_player = Player(players.iloc[player_id]['Name'], \n",
    "                                 cur_position,\n",
    "                                 players.iloc[player_id][f'{cur_position}Rating'],\n",
    "                                 players.iloc[player_id]['ValueEUR'])\n",
    "            squad.append(temp_player)\n",
    "        return squad\n",
    "    def evalSquad(self):\n",
    "        sum_rating = 0\n",
    "        for i in self.squad:\n",
    "            sum_rating += i.position_rating\n",
    "        return round(sum_rating/11, 2)"
   ]
  },
  {
   "cell_type": "code",
   "execution_count": null,
   "metadata": {},
   "outputs": [],
   "source": [
    "env = Environment(players, 1000000)"
   ]
  },
  {
   "cell_type": "code",
   "execution_count": null,
   "metadata": {},
   "outputs": [],
   "source": [
    "for player in env.squad:\n",
    "    print(f'name: {player.name}, position: {player.position}, Position rating: {player.position_rating}')"
   ]
  },
  {
   "cell_type": "code",
   "execution_count": null,
   "metadata": {},
   "outputs": [],
   "source": [
    "print(env.evalSquad())"
   ]
  },
  {
   "cell_type": "code",
   "execution_count": null,
   "metadata": {},
   "outputs": [],
   "source": []
  },
  {
   "cell_type": "code",
   "execution_count": null,
   "metadata": {},
   "outputs": [],
   "source": []
  }
 ],
 "metadata": {
  "kernelspec": {
   "display_name": "Python 3 (ipykernel)",
   "language": "python",
   "name": "python3"
  },
  "language_info": {
   "codemirror_mode": {
    "name": "ipython",
    "version": 3
   },
   "file_extension": ".py",
   "mimetype": "text/x-python",
   "name": "python",
   "nbconvert_exporter": "python",
   "pygments_lexer": "ipython3",
   "version": "3.9.7"
  }
 },
 "nbformat": 4,
 "nbformat_minor": 4
}
