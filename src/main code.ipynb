{
 "cells": [
  {
   "cell_type": "code",
   "execution_count": 1,
   "metadata": {},
   "outputs": [],
   "source": [
    "import numpy as np\n",
    "import pandas as pd"
   ]
  },
  {
   "cell_type": "code",
   "execution_count": 2,
   "metadata": {},
   "outputs": [],
   "source": [
    "players = pd.read_csv('../dataset light memory/players_fifa22.csv')\n",
    "teams = pd.read_csv('../dataset light memory/teams_fifa22.csv')"
   ]
  },
  {
   "cell_type": "code",
   "execution_count": null,
   "metadata": {
    "scrolled": true
   },
   "outputs": [],
   "source": [
    "list(players.columns)"
   ]
  },
  {
   "cell_type": "code",
   "execution_count": null,
   "metadata": {},
   "outputs": [],
   "source": [
    "import random\n",
    "from collections import deque\n",
    "import os\n",
    "from keras.models import Sequential\n",
    "from keras.layers import Dense\n",
    "from tensorflow.keras.optimizers import Adam\n",
    "        \n",
    "class DQNetwork:\n",
    "    def __init__(self, state_size, action_size):\n",
    "        self.state_size = state_size\n",
    "        self.action_size = action_size\n",
    "        self.memory = deque(maxlen = 2000)\n",
    "        self.gamma = 0.95\n",
    "        self.epsilon = 1.0\n",
    "        self.epsilon_decay = 0.995\n",
    "        self.epsilon_min = 0.01\n",
    "        self.learning_rate = 0.01\n",
    "        self.model = self._build_model()\n",
    "    \n",
    "    def _build_model(self):\n",
    "        model = Sequential()\n",
    "        model.add(Dense(24, input_dim = self.state_size, activation = 'relu'))\n",
    "        model.add(Dense(128, activation = 'relu'))\n",
    "        model.add(Dense(128, activation = 'relu'))\n",
    "        model.add(Dense(self.action_size, activation = 'linear'))\n",
    "        model.compile(loss='mse', optimizer = Adam(learning_rate = self.learning_rate))\n",
    "        return model\n",
    "    \n",
    "    def remember(self, state, action, reward, next_state, done):\n",
    "        self.memory.append((state, action, reward, next_state, done))\n",
    "    \n",
    "    def act(self, state):\n",
    "        if np.random.rand() <= self.epsilon:\n",
    "            return random.randrange(self.action_size)\n",
    "        act_values = self.model.predict(state)\n",
    "        return np.argmax(act_values[0])\n",
    "    \n",
    "    def replay(self, batch_size):\n",
    "        batch = random.sample(self.memory, batch_size)\n",
    "        for state, action, reward, next_state, done in batch:\n",
    "            target = reward #target = 80\n",
    "            if not done:\n",
    "                target = (reward + self.gamma * np.amax(self.model.predict(next_state)[0])) \n",
    "            target_cur = self.model.predict(state)\n",
    "            target_cur[0][action] = target\n",
    "            self.model.fit(state, target_cur, epochs = 1, verbose = 0)\n",
    "        if self.epsilon > self.epsilon_min:\n",
    "            self.epsilon *= self.epsilon_decay\n",
    "    def load(self, name):\n",
    "        self.model.load_weights(name)\n",
    "    def save(self, name):\n",
    "        self.model.save_weights(name)\n",
    "    \n"
   ]
  },
  {
   "cell_type": "code",
   "execution_count": 4,
   "metadata": {},
   "outputs": [],
   "source": [
    "import gym\n",
    "\n",
    "env = gym.make('CartPole-v0')\n",
    "state_size = env.observation_space.shape[0]\n",
    "action_size = env.action_space.n\n",
    "batch_size = 32\n",
    "n_episodes = 1001"
   ]
  },
  {
   "cell_type": "code",
   "execution_count": 6,
   "metadata": {},
   "outputs": [],
   "source": [
    "arr = env.reset()"
   ]
  },
  {
   "cell_type": "code",
   "execution_count": 55,
   "metadata": {},
   "outputs": [
    {
     "name": "stdout",
     "output_type": "stream",
     "text": [
      "[-0.00625125 -0.22040966  0.03027815  0.29822242] 1.0 False\n",
      "[-0.01065945 -0.41594985  0.0362426   0.60029864] 1.0 False\n",
      "[-0.01897844 -0.61155957  0.04824857  0.90417355] 1.0 False\n",
      "[-0.03120963 -0.8073006   0.06633205  1.2116231 ] 1.0 False\n",
      "[-0.04735565 -1.0032132   0.0905645   1.5243329 ] 1.0 False\n",
      "[-0.06741991 -1.1993045   0.12105117  1.8438541 ] 1.0 False\n",
      "[-0.091406   -1.3955357   0.15792824  2.171549  ] 1.0 False\n",
      "[-0.11931671 -1.5918063   0.20135923  2.5085294 ] 1.0 False\n",
      "[-0.15115283 -1.7879367   0.2515298   2.8555813 ] 1.0 True\n"
     ]
    }
   ],
   "source": [
    "done = False\n",
    "env.reset()\n",
    "while not done:\n",
    "    a, b , done, _ = env.step(0)\n",
    "    print(a,b,done)"
   ]
  },
  {
   "cell_type": "code",
   "execution_count": null,
   "metadata": {},
   "outputs": [],
   "source": [
    "# agent = DQNetwork(state_size, action_size)\n",
    "\n",
    "# for e in range(n_episodes):\n",
    "#     state = env.reset()\n",
    "#     state = np.reshape(state, [1, state_size])\n",
    "#     for time in range(5000):\n",
    "#         #env.render()\n",
    "#         action = agent.act(state)\n",
    "#         next_state, reward, done, _ = env.step(action)\n",
    "#         reward = reward if not done else -10\n",
    "#         next_state = np.reshape(next_state, [1, state_size])\n",
    "#         agent.remember(state, action, reward, next_state, done)\n",
    "#         state = next_state\n",
    "#         if done:\n",
    "#             print(f\"episode: {e}/{n_episodes}, score: {time}, e: {round(agent.epsilon, 2)}\")\n",
    "#             break\n",
    "#     if len(agent.memory) > batch_size:\n",
    "#         agent.replay(batch_size)"
   ]
  },
  {
   "cell_type": "code",
   "execution_count": null,
   "metadata": {},
   "outputs": [],
   "source": [
    "state = env.reset()\n",
    "state = np.reshape(state, [1, state_size])\n",
    "next_state, reward, done, _ = env.step(action)"
   ]
  },
  {
   "cell_type": "code",
   "execution_count": null,
   "metadata": {},
   "outputs": [],
   "source": [
    "testdqn.model.predict([[1,2,3,4,5,6,7,8,9,10]])"
   ]
  },
  {
   "cell_type": "markdown",
   "metadata": {},
   "source": [
    "## env logic"
   ]
  },
  {
   "cell_type": "markdown",
   "metadata": {},
   "source": [
    "#### env reset()\n",
    "#### env.step()\n",
    "#### env."
   ]
  },
  {
   "cell_type": "code",
   "execution_count": null,
   "metadata": {},
   "outputs": [],
   "source": [
    "class Player:\n",
    "    def __init__(self, name = '', position = '', position_rating = 0, value = 0, wage = 0):\n",
    "        self.name = name\n",
    "        #self.overall_rating = overall_rating\n",
    "        self.position = position\n",
    "        self.position_rating = position_rating\n",
    "        self.value = value\n",
    "        #self.wage = wage"
   ]
  },
  {
   "cell_type": "code",
   "execution_count": null,
   "metadata": {},
   "outputs": [],
   "source": [
    "class Environment:\n",
    "    def __init__(self, players, money):\n",
    "        self.players = players[['ID', 'Name', 'ValueEUR', 'Overall', 'STRating', 'LWRating', 'LFRating', 'CFRating', 'RFRating', 'RWRating',\n",
    "                                'CAMRating', 'LMRating', 'CMRating', 'RMRating', 'LWBRating',\n",
    "                                'CDMRating', 'RWBRating', 'LBRating', 'CBRating', 'RBRating', 'GKRating']]\n",
    "        self.formation = ['GK', \n",
    "                         'LB', 'CB', 'CB', 'RB', \n",
    "                         'LM', 'CAM', 'RM',\n",
    "                         'LW', 'ST', 'RW']\n",
    "        self.reward = 0\n",
    "    def reset(self):\n",
    "        self.money = np.random.randint(10000000, 1000000000, size = 1)\n",
    "        self.formation = ['GK', \n",
    "                         'LB', 'CB', 'CB', 'RB', \n",
    "                         'LM', 'CAM', 'RM',\n",
    "                         'LW', 'ST', 'RW']\n",
    "        self.posid = 0\n",
    "        self.done = False\n",
    "        self.squad = []\n",
    "        self.squad_players_ids = []\n",
    "        state = np.array([self.money, self.posid, self.squad_players_ids])\n",
    "        return state\n",
    "    \n",
    "    def step(self, action):\n",
    "        money_exceeded_flag = False\n",
    "        if action in self.squad_players_ids:\n",
    "            return [[self.money, self.posid, self.squad_players_ids], -10, False, {}]\n",
    "        \n",
    "        if len(self.squad) + 1 == 11:\n",
    "            self.done = True\n",
    "        self.squad_players_ids.append(action)\n",
    "        player = Player(players.iloc[action]['Name'], \n",
    "                                 self.formation[self.posid],\n",
    "                                 players.iloc[action][f'{self.formation[self.posid]}Rating'],\n",
    "                                 players.iloc[action]['ValueEUR'])\n",
    "        self.squad.append(player)\n",
    "        self.posid += 1\n",
    "        self.money -= player.value\n",
    "        if self.money < 0:\n",
    "            money_exceeded_flag = True\n",
    "        next_state = [self.money, self.posid, self.squad_players_ids]\n",
    "        \n",
    "        reward = self.evalSquad()\n",
    "        if money_exceed_flag = True:\n",
    "            done = True\n",
    "            reward = -100\n",
    "        if repeat_players_flag:\n",
    "        return [next_state, reward, done, {}]\n",
    "    \n",
    "    def evalSquad(self):\n",
    "        sum_rating = 0\n",
    "        for player in self.squad:\n",
    "            sum_rating += player.position_rating\n",
    "        if len(self.squad) == 11:\n",
    "            return sum_rating\n",
    "        return round(sum_rating/len(squad), 2)"
   ]
  },
  {
   "cell_type": "code",
   "execution_count": null,
   "metadata": {},
   "outputs": [],
   "source": [
    "env = Environment()"
   ]
  },
  {
   "cell_type": "code",
   "execution_count": null,
   "metadata": {},
   "outputs": [],
   "source": [
    "for player in env.squad:\n",
    "    print(f'name: {player.name}, position: {player.position}, Position rating: {player.position_rating}')"
   ]
  },
  {
   "cell_type": "code",
   "execution_count": null,
   "metadata": {},
   "outputs": [],
   "source": [
    "print(env.evalSquad())"
   ]
  },
  {
   "cell_type": "code",
   "execution_count": null,
   "metadata": {},
   "outputs": [],
   "source": []
  },
  {
   "cell_type": "code",
   "execution_count": null,
   "metadata": {},
   "outputs": [],
   "source": []
  }
 ],
 "metadata": {
  "kernelspec": {
   "display_name": "Python 3 (ipykernel)",
   "language": "python",
   "name": "python3"
  },
  "language_info": {
   "codemirror_mode": {
    "name": "ipython",
    "version": 3
   },
   "file_extension": ".py",
   "mimetype": "text/x-python",
   "name": "python",
   "nbconvert_exporter": "python",
   "pygments_lexer": "ipython3",
   "version": "3.9.7"
  }
 },
 "nbformat": 4,
 "nbformat_minor": 4
}
