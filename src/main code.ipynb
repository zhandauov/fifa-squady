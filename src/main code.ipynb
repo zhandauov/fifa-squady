{
 "cells": [
  {
   "cell_type": "code",
   "execution_count": 2,
   "metadata": {},
   "outputs": [],
   "source": [
    "import numpy as np\n",
    "import pandas as pd"
   ]
  },
  {
   "cell_type": "code",
   "execution_count": 3,
   "metadata": {},
   "outputs": [],
   "source": [
    "players = pd.read_csv('../dataset light memory/players_fifa22.csv')\n",
    "teams = pd.read_csv('../dataset light memory/teams_fifa22.csv')"
   ]
  },
  {
   "cell_type": "code",
   "execution_count": 8,
   "metadata": {
    "scrolled": true
   },
   "outputs": [
    {
     "data": {
      "text/plain": [
       "['ID',\n",
       " 'Name',\n",
       " 'FullName',\n",
       " 'Age',\n",
       " 'Height',\n",
       " 'Weight',\n",
       " 'PhotoUrl',\n",
       " 'Nationality',\n",
       " 'Overall',\n",
       " 'Potential',\n",
       " 'Growth',\n",
       " 'TotalStats',\n",
       " 'BaseStats',\n",
       " 'Positions',\n",
       " 'BestPosition',\n",
       " 'Club',\n",
       " 'ValueEUR',\n",
       " 'WageEUR',\n",
       " 'ReleaseClause',\n",
       " 'ClubPosition',\n",
       " 'ContractUntil',\n",
       " 'ClubNumber',\n",
       " 'ClubJoined',\n",
       " 'OnLoad',\n",
       " 'NationalTeam',\n",
       " 'NationalPosition',\n",
       " 'NationalNumber',\n",
       " 'PreferredFoot',\n",
       " 'IntReputation',\n",
       " 'WeakFoot',\n",
       " 'SkillMoves',\n",
       " 'AttackingWorkRate',\n",
       " 'DefensiveWorkRate',\n",
       " 'PaceTotal',\n",
       " 'ShootingTotal',\n",
       " 'PassingTotal',\n",
       " 'DribblingTotal',\n",
       " 'DefendingTotal',\n",
       " 'PhysicalityTotal',\n",
       " 'Crossing',\n",
       " 'Finishing',\n",
       " 'HeadingAccuracy',\n",
       " 'ShortPassing',\n",
       " 'Volleys',\n",
       " 'Dribbling',\n",
       " 'Curve',\n",
       " 'FKAccuracy',\n",
       " 'LongPassing',\n",
       " 'BallControl',\n",
       " 'Acceleration',\n",
       " 'SprintSpeed',\n",
       " 'Agility',\n",
       " 'Reactions',\n",
       " 'Balance',\n",
       " 'ShotPower',\n",
       " 'Jumping',\n",
       " 'Stamina',\n",
       " 'Strength',\n",
       " 'LongShots',\n",
       " 'Aggression',\n",
       " 'Interceptions',\n",
       " 'Positioning',\n",
       " 'Vision',\n",
       " 'Penalties',\n",
       " 'Composure',\n",
       " 'Marking',\n",
       " 'StandingTackle',\n",
       " 'SlidingTackle',\n",
       " 'GKDiving',\n",
       " 'GKHandling',\n",
       " 'GKKicking',\n",
       " 'GKPositioning',\n",
       " 'GKReflexes',\n",
       " 'STRating',\n",
       " 'LWRating',\n",
       " 'LFRating',\n",
       " 'CFRating',\n",
       " 'RFRating',\n",
       " 'RWRating',\n",
       " 'CAMRating',\n",
       " 'LMRating',\n",
       " 'CMRating',\n",
       " 'RMRating',\n",
       " 'LWBRating',\n",
       " 'CDMRating',\n",
       " 'RWBRating',\n",
       " 'LBRating',\n",
       " 'CBRating',\n",
       " 'RBRating',\n",
       " 'GKRating']"
      ]
     },
     "execution_count": 8,
     "metadata": {},
     "output_type": "execute_result"
    }
   ],
   "source": [
    "list(players.columns)"
   ]
  },
  {
   "cell_type": "code",
   "execution_count": 17,
   "metadata": {},
   "outputs": [
    {
     "data": {
      "text/plain": [
       "['GK', 'LB', 'LCB', 'RCB', 'RB', 'LCM', 'CAM', 'RCM', 'LW', 'ST', 'RW']"
      ]
     },
     "execution_count": 17,
     "metadata": {},
     "output_type": "execute_result"
    }
   ],
   "source": [
    "['GK', \n",
    " 'LB', 'LCB', 'RCB', 'RB', \n",
    " 'CML', 'CAM', 'CMR',\n",
    " 'LW', 'ST', 'RW']"
   ]
  },
  {
   "cell_type": "code",
   "execution_count": 32,
   "metadata": {},
   "outputs": [
    {
     "data": {
      "text/plain": [
       "Index(['ID', 'Name', 'FullName', 'Age', 'Height', 'Weight', 'PhotoUrl',\n",
       "       'Nationality', 'Overall', 'Potential', 'Growth', 'TotalStats',\n",
       "       'BaseStats', 'Positions', 'BestPosition', 'Club', 'ValueEUR', 'WageEUR',\n",
       "       'ReleaseClause', 'ClubPosition', 'ContractUntil', 'ClubNumber',\n",
       "       'ClubJoined', 'OnLoad', 'NationalTeam', 'NationalPosition',\n",
       "       'NationalNumber', 'PreferredFoot', 'IntReputation', 'WeakFoot',\n",
       "       'SkillMoves', 'AttackingWorkRate', 'DefensiveWorkRate', 'PaceTotal',\n",
       "       'ShootingTotal', 'PassingTotal', 'DribblingTotal', 'DefendingTotal',\n",
       "       'PhysicalityTotal', 'Crossing', 'Finishing', 'HeadingAccuracy',\n",
       "       'ShortPassing', 'Volleys', 'Dribbling', 'Curve', 'FKAccuracy',\n",
       "       'LongPassing', 'BallControl', 'Acceleration', 'SprintSpeed', 'Agility',\n",
       "       'Reactions', 'Balance', 'ShotPower', 'Jumping', 'Stamina', 'Strength',\n",
       "       'LongShots', 'Aggression', 'Interceptions', 'Positioning', 'Vision',\n",
       "       'Penalties', 'Composure', 'Marking', 'StandingTackle', 'SlidingTackle',\n",
       "       'GKDiving', 'GKHandling', 'GKKicking', 'GKPositioning', 'GKReflexes',\n",
       "       'STRating', 'LWRating', 'LFRating', 'CFRating', 'RFRating', 'RWRating',\n",
       "       'CAMRating', 'LMRating', 'CMRating', 'RMRating', 'LWBRating',\n",
       "       'CDMRating', 'RWBRating', 'LBRating', 'CBRating', 'RBRating',\n",
       "       'GKRating'],\n",
       "      dtype='object')"
      ]
     },
     "execution_count": 32,
     "metadata": {},
     "output_type": "execute_result"
    }
   ],
   "source": [
    "players.columns"
   ]
  },
  {
   "cell_type": "code",
   "execution_count": null,
   "metadata": {},
   "outputs": [],
   "source": []
  },
  {
   "cell_type": "code",
   "execution_count": null,
   "metadata": {},
   "outputs": [],
   "source": [
    "import torch as T\n",
    "import torch.nn as nn\n",
    "import torch.nn.functional as F\n",
    "import torch.optim as optim\n",
    "\n",
    "class SquadBuilder(nn.module):\n",
    "    def __init__(self, lr, input_dims, fc1_dims, fc2_dims, n_actions):\n",
    "        super(SquadBuilder, self).__init__()\n",
    "        self.input_dims = input_dims\n",
    "        self.fc1_dims = fc1_dims\n",
    "        self.fc2_dims = fc2_dims\n",
    "        self.n_actions = n_actions\n",
    "        self.fc1 = nn.Linear(*self.input_dims, self.fc1_dims)\n",
    "        self.fc2 = nn.Linear(self.fc1_dims, self.fc2_dims)\n",
    "        self.fc3 = nn.Linear(self.fc2_dims, self.n_actions)\n",
    "        self.optimizer = optim.Adam(self.parameters(), lr = lr)\n",
    "        self.loss = nn.MSELoss()\n",
    "        self.device = T.device('cuda:0' if T.cuda.is_available() else 'cpu')\n",
    "        self.to(self.device)\n",
    "    \n",
    "    def forward(self, state):\n",
    "        x = F.relu(self.fc1(state))\n",
    "        x = F.relu(self.fc2(x))\n",
    "        actions = self.fc3(x)\n",
    "        return actions\n",
    "        \n",
    "        \n",
    "        "
   ]
  },
  {
   "cell_type": "code",
   "execution_count": 89,
   "metadata": {},
   "outputs": [],
   "source": [
    "class Player:\n",
    "    def __init__(self, name = '', position = '', position_rating = 0, value = 0, wage = 0):\n",
    "        self.name = name\n",
    "        #self.overall_rating = overall_rating\n",
    "        self.position = position\n",
    "        self.position_rating = position_rating\n",
    "        self.value = value\n",
    "        #self.wage = wage\n",
    "        \n",
    "class Environment:\n",
    "    def __init__(self, players, money):\n",
    "        self.players = players[['ID', 'Name', 'ValueEUR', 'Overall', 'STRating', 'LWRating', 'LFRating', 'CFRating', 'RFRating', 'RWRating',\n",
    "                                'CAMRating', 'LMRating', 'CMRating', 'RMRating', 'LWBRating',\n",
    "                                'CDMRating', 'RWBRating', 'LBRating', 'CBRating', 'RBRating', 'GKRating']]\n",
    "        self.money = money\n",
    "        self.formation = ['GK', \n",
    "                         'LB', 'CB', 'CB', 'RB', \n",
    "                         'LM', 'CAM', 'RM',\n",
    "                         'LW', 'ST', 'RW']\n",
    "        self.squad = self.buildSquad()\n",
    "        \n",
    "    def buildSquad(self):\n",
    "        squad = []\n",
    "        for i in range(11):\n",
    "            cur_position = self.formation.pop()\n",
    "            player_id = np.random.randint(0, 1000, 1)[0]\n",
    "            temp_player = Player(players.iloc[player_id]['Name'], \n",
    "                                 cur_position,\n",
    "                                 players.iloc[player_id][f'{cur_position}Rating'],\n",
    "                                 players.iloc[player_id]['ValueEUR'])\n",
    "            squad.append(temp_player)\n",
    "        return squad\n",
    "    def evalSquad(self):\n",
    "        sum_rating = 0\n",
    "        for i in self.squad:\n",
    "            sum_rating += i.position_rating\n",
    "        return round(sum_rating/11, 2)"
   ]
  },
  {
   "cell_type": "code",
   "execution_count": 90,
   "metadata": {},
   "outputs": [],
   "source": [
    "env = Environment(players, 1000000)"
   ]
  },
  {
   "cell_type": "code",
   "execution_count": 91,
   "metadata": {},
   "outputs": [
    {
     "name": "stdout",
     "output_type": "stream",
     "text": [
      "name: A. Budimir, position: RW, Position rating: 69\n",
      "name: M. Doherty, position: ST, Position rating: 74\n",
      "name: M. Arnautović, position: LW, Position rating: 79\n",
      "name: Negredo, position: RM, Position rating: 71\n",
      "name: Piqué, position: CAM, Position rating: 74\n",
      "name: H. Traoré, position: LM, Position rating: 77\n",
      "name: M. Kranevitter, position: RB, Position rating: 75\n",
      "name: S. Mandanda, position: CB, Position rating: 32\n",
      "name: Domingos Duarte, position: CB, Position rating: 80\n",
      "name: O. Giroud, position: LB, Position rating: 54\n",
      "name: V. Rongier, position: GK, Position rating: 19\n"
     ]
    }
   ],
   "source": [
    "for player in env.squad:\n",
    "    print(f'name: {player.name}, position: {player.position}, Position rating: {player.position_rating}')"
   ]
  },
  {
   "cell_type": "code",
   "execution_count": 92,
   "metadata": {},
   "outputs": [
    {
     "name": "stdout",
     "output_type": "stream",
     "text": [
      "64.0\n"
     ]
    }
   ],
   "source": [
    "print(env.evalSquad())"
   ]
  },
  {
   "cell_type": "code",
   "execution_count": null,
   "metadata": {},
   "outputs": [],
   "source": []
  },
  {
   "cell_type": "code",
   "execution_count": null,
   "metadata": {},
   "outputs": [],
   "source": []
  }
 ],
 "metadata": {
  "kernelspec": {
   "display_name": "Python 3 (ipykernel)",
   "language": "python",
   "name": "python3"
  },
  "language_info": {
   "codemirror_mode": {
    "name": "ipython",
    "version": 3
   },
   "file_extension": ".py",
   "mimetype": "text/x-python",
   "name": "python",
   "nbconvert_exporter": "python",
   "pygments_lexer": "ipython3",
   "version": "3.9.7"
  }
 },
 "nbformat": 4,
 "nbformat_minor": 4
}
